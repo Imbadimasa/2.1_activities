{
 "cells": [
  {
   "cell_type": "code",
   "execution_count": 11,
   "id": "9bcb8c22-8d9e-4b30-8036-1c5625f100c9",
   "metadata": {},
   "outputs": [
    {
     "name": "stdout",
     "output_type": "stream",
     "text": [
      "The percentage increase is 27.88%\n"
     ]
    }
   ],
   "source": [
    "original_price = 198.87\n",
    "current_price = 254.32\n",
    "increase = current_price - original_price\n",
    "percent_increase = (increase/original_price)*100\n",
    "print (f'The percentage increase is {round(percent_increase,2)}%')"
   ]
  },
  {
   "cell_type": "code",
   "execution_count": null,
   "id": "f1a39212-6238-4037-b076-66437be0d7c6",
   "metadata": {},
   "outputs": [],
   "source": []
  }
 ],
 "metadata": {
  "kernelspec": {
   "display_name": "Python 3 (ipykernel)",
   "language": "python",
   "name": "python3"
  },
  "language_info": {
   "codemirror_mode": {
    "name": "ipython",
    "version": 3
   },
   "file_extension": ".py",
   "mimetype": "text/x-python",
   "name": "python",
   "nbconvert_exporter": "python",
   "pygments_lexer": "ipython3",
   "version": "3.9.13"
  }
 },
 "nbformat": 4,
 "nbformat_minor": 5
}
