{
 "cells": [
  {
   "cell_type": "code",
   "execution_count": 1,
   "id": "969fc024-d799-4666-8e01-734a3c9590c6",
   "metadata": {},
   "outputs": [
    {
     "name": "stdout",
     "output_type": "stream",
     "text": [
      "0\n",
      "1\n",
      "2\n",
      "3\n",
      "4\n",
      "_____\n"
     ]
    }
   ],
   "source": [
    "#For loops\n",
    "\n",
    "for x in range(5):\n",
    "    print(x)\n",
    "    \n",
    "print (\"_____\")"
   ]
  },
  {
   "cell_type": "code",
   "execution_count": 3,
   "id": "7b075a7b-3c03-4005-906f-bd18ec8aafad",
   "metadata": {},
   "outputs": [
    {
     "name": "stdout",
     "output_type": "stream",
     "text": [
      "P\n",
      "e\n",
      "a\n",
      "c\n",
      "e\n",
      "____\n"
     ]
    }
   ],
   "source": [
    "word = \"Peace\"\n",
    "for x in word:\n",
    "    print(x)\n",
    "    \n",
    "print (\"____\")"
   ]
  },
  {
   "cell_type": "code",
   "execution_count": 4,
   "id": "55422ab7-4306-4c19-8267-59da3646b15b",
   "metadata": {},
   "outputs": [
    {
     "name": "stdout",
     "output_type": "stream",
     "text": [
      "2\n",
      "3\n",
      "4\n",
      "5\n",
      "6\n"
     ]
    }
   ],
   "source": [
    "for x in range (2,7):\n",
    "    print (x)\n"
   ]
  },
  {
   "cell_type": "code",
   "execution_count": 1,
   "id": "fcd1928c-d8e0-497d-9829-e418a156012b",
   "metadata": {},
   "outputs": [
    {
     "name": "stdout",
     "output_type": "stream",
     "text": [
      "Hi\n"
     ]
    },
    {
     "name": "stdin",
     "output_type": "stream",
     "text": [
      "to run again, enter 'y' k\n"
     ]
    }
   ],
   "source": [
    "run = \"y\"\n",
    "while run == \"y\":\n",
    "    print (\"Hi\")\n",
    "    run = input (\"to run again, enter 'y'\")"
   ]
  },
  {
   "cell_type": "code",
   "execution_count": null,
   "id": "82a7f64e-f797-4094-8d77-94f4e5beb965",
   "metadata": {},
   "outputs": [],
   "source": []
  }
 ],
 "metadata": {
  "kernelspec": {
   "display_name": "Python 3 (ipykernel)",
   "language": "python",
   "name": "python3"
  },
  "language_info": {
   "codemirror_mode": {
    "name": "ipython",
    "version": 3
   },
   "file_extension": ".py",
   "mimetype": "text/x-python",
   "name": "python",
   "nbconvert_exporter": "python",
   "pygments_lexer": "ipython3",
   "version": "3.9.13"
  }
 },
 "nbformat": 4,
 "nbformat_minor": 5
}
