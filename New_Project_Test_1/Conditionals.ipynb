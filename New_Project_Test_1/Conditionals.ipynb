{
 "cells": [
  {
   "cell_type": "code",
   "execution_count": 3,
   "id": "5a3286cf-09c9-420a-b8e8-d8f40aa7ea13",
   "metadata": {},
   "outputs": [
    {
     "name": "stdout",
     "output_type": "stream",
     "text": [
      "Bring an umbrella\n"
     ]
    }
   ],
   "source": [
    "   \n",
    "is_raining = True\n",
    "\n",
    "if is_raining:\n",
    "    print (\"Bring an umbrella\")\n",
    "else:\n",
    "    print (\"Leave the Umbrella at home\")\n",
    "    "
   ]
  },
  {
   "cell_type": "code",
   "execution_count": 5,
   "id": "a3567e61-46ab-459e-8aa3-44c4f11c53e4",
   "metadata": {},
   "outputs": [
    {
     "name": "stdout",
     "output_type": "stream",
     "text": [
      "x is not equal to 1\n"
     ]
    }
   ],
   "source": [
    "x = 5\n",
    "if x == 1:\n",
    "    print (\"x is eqaul to 1\")\n",
    "else:\n",
    "    print (\"x is not equal to 1\")"
   ]
  },
  {
   "cell_type": "code",
   "execution_count": 8,
   "id": "7a6500ca-1f2d-47e1-a212-98e4eb19cef2",
   "metadata": {},
   "outputs": [
    {
     "name": "stdout",
     "output_type": "stream",
     "text": [
      "y is not equal to 1\n"
     ]
    }
   ],
   "source": [
    "y = 9\n",
    "if y != 1:\n",
    "    print (\"y is not equal to 1\")\n",
    "    "
   ]
  },
  {
   "cell_type": "code",
   "execution_count": 13,
   "id": "a8a3cfa7-4cbc-44e8-acce-50f9e7e5ba7c",
   "metadata": {},
   "outputs": [
    {
     "name": "stdout",
     "output_type": "stream",
     "text": [
      "x is not equal to y\n",
      "x is smaller than y\n",
      "x is greater or equal to 1\n",
      "both values returned True\n"
     ]
    }
   ],
   "source": [
    "x = 5\n",
    "y = 10\n",
    "if x == y:\n",
    "    print (\"x is equal to y\")\n",
    "else:\n",
    "    print (\"x is not equal to y\")\n",
    "    \n",
    "if x < y:\n",
    "    print (\"x is smaller than y\")\n",
    "    \n",
    "if x >= 1:\n",
    "    print (\"x is greater or equal to 1\")\n",
    "\n",
    "if x == 1 and y == 10:\n",
    "    print (\"both values returned True\")\n",
    "    \n",
    "if x == 1 or y == 10:\n",
    "    print (\"both values returned True\")\n",
    "    \n",
    "        "
   ]
  },
  {
   "cell_type": "code",
   "execution_count": 14,
   "id": "403035fe-b623-4f43-ace2-ec6dd4d3908f",
   "metadata": {},
   "outputs": [
    {
     "name": "stdout",
     "output_type": "stream",
     "text": [
      "x is less than 10 and y is greater than 5\n"
     ]
    }
   ],
   "source": [
    "# Nested if statements\n",
    "x = 5\n",
    "y = 10\n",
    "\n",
    "if x <10:\n",
    "    if y < 5:\n",
    "        print (\"x is less than 10 and y is less than 5\")\n",
    "    elif y == 5:\n",
    "        print (\"x is less than 10 and y is equal to 5\")\n",
    "    else:\n",
    "        print (\"x is less than 10 and y is greater than 5\")\n",
    "else: \n",
    "    print (\"x is not less than 10\")\n",
    "    \n",
    "        "
   ]
  },
  {
   "cell_type": "code",
   "execution_count": null,
   "id": "048f3b46-aa15-4833-baeb-f91c7bbafa8e",
   "metadata": {},
   "outputs": [],
   "source": []
  }
 ],
 "metadata": {
  "kernelspec": {
   "display_name": "Python 3 (ipykernel)",
   "language": "python",
   "name": "python3"
  },
  "language_info": {
   "codemirror_mode": {
    "name": "ipython",
    "version": 3
   },
   "file_extension": ".py",
   "mimetype": "text/x-python",
   "name": "python",
   "nbconvert_exporter": "python",
   "pygments_lexer": "ipython3",
   "version": "3.9.13"
  }
 },
 "nbformat": 4,
 "nbformat_minor": 5
}
